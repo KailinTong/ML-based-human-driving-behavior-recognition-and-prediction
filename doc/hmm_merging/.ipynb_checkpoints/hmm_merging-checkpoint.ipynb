{
 "cells": [
  {
   "cell_type": "code",
   "execution_count": null,
   "metadata": {
    "collapsed": true
   },
   "outputs": [],
   "source": [
    "from hmmlearn import hmm\n",
    "import numpy as np\n",
    "import matplotlib.pyplot as plt"
   ]
  },
  {
   "cell_type": "code",
   "execution_count": null,
   "metadata": {
    "collapsed": true
   },
   "outputs": [],
   "source": [
    "data1 = np.loadtxt('./Data-merging/all_trajs_1.txt')\n",
    "data2 = np.loadtxt('./Data-merging/all_trajs_2.txt')\n",
    "len1 = np.loadtxt('./Data-merging/all_trajs_seq_length_1.txt')\n",
    "len2 = np.loadtxt('./Data-merging/all_trajs_seq_length_2.txt')"
   ]
  },
  {
   "cell_type": "code",
   "execution_count": null,
   "metadata": {
    "collapsed": true
   },
   "outputs": [],
   "source": [
    "hmm_1 = hmm.GaussianHMM(n_components=26, covariance_type=\"full\", n_iter=1000, verbose = True,  algorithm = 'map')\n",
    "hmm_2 = hmm.GaussianHMM(n_components=26, covariance_type=\"full\", n_iter=1000, verbose = True, algorithm = 'map')"
   ]
  },
  {
   "cell_type": "code",
   "execution_count": null,
   "metadata": {
    "collapsed": true
   },
   "outputs": [],
   "source": [
    "X1 = data1[0:, [3, 5, 7, 9, 10, 11, 12]]\n",
    "X2 = data2[0:, [3, 5, 7, 9, 10, 11, 12]]\n",
    "len1 = len1.astype(int)\n",
    "len2 = len2.astype(int)"
   ]
  },
  {
   "cell_type": "code",
   "execution_count": null,
   "metadata": {},
   "outputs": [],
   "source": [
    "hmm_1.fit(X1, (len1))\n",
    "hmm_2.fit(X2, (len2))"
   ]
  },
  {
   "cell_type": "code",
   "execution_count": null,
   "metadata": {},
   "outputs": [],
   "source": [
    "hmm_2.score(X1[0:len1[0], :])"
   ]
  },
  {
   "cell_type": "code",
   "execution_count": null,
   "metadata": {
    "collapsed": true
   },
   "outputs": [],
   "source": [
    "def calc_like(X1):\n",
    "    score1 = hmm_1.score(X1)\n",
    "    score2 = hmm_2.score(X1)\n",
    "    \n",
    "    score1 = np.exp(score1) / (np.exp(score1) + np.exp(score2))\n",
    "    score2 = 1 - score1\n",
    "    return score1, score2"
   ]
  },
  {
   "cell_type": "code",
   "execution_count": null,
   "metadata": {},
   "outputs": [],
   "source": [
    "N = 100\n",
    "lower = 0\n",
    "test = np.loadtxt('./Data-merging/test.txt')\n",
    "prob = np.zeros((N, 1))\n",
    "X1_0 = test[:, [3, 5, 7, 9, 10, 11, 12]]\n",
    "print (X1_0.shape)\n",
    "for t in range(N):\n",
    "    upper  = lower + 50\n",
    "    X_seq = X1_0[lower:upper, :]\n",
    "    prob[t,:], _ = calc_like(X_seq)\n",
    "    lower += 1"
   ]
  },
  {
   "cell_type": "code",
   "execution_count": null,
   "metadata": {},
   "outputs": [],
   "source": [
    "prob"
   ]
  },
  {
   "cell_type": "code",
   "execution_count": null,
   "metadata": {},
   "outputs": [],
   "source": [
    "print(prob.shape)\n",
    "plt.plot(1 - prob)\n",
    "plt.show()"
   ]
  },
  {
   "cell_type": "code",
   "execution_count": null,
   "metadata": {},
   "outputs": [],
   "source": [
    "data1[0, :]"
   ]
  }
 ],
 "metadata": {
  "kernelspec": {
   "display_name": "Python 2",
   "language": "python",
   "name": "python2"
  },
  "language_info": {
   "codemirror_mode": {
    "name": "ipython",
    "version": 2
   },
   "file_extension": ".py",
   "mimetype": "text/x-python",
   "name": "python",
   "nbconvert_exporter": "python",
   "pygments_lexer": "ipython2",
   "version": "2.7.14"
  }
 },
 "nbformat": 4,
 "nbformat_minor": 2
}
