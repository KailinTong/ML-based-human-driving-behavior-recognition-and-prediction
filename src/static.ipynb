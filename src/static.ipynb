{
 "cells": [
  {
   "cell_type": "code",
   "execution_count": null,
   "metadata": {},
   "outputs": [],
   "source": [
    "import numpy as np\n",
    "import matplotlib.pyplot as plt\n",
    "import seaborn as sns\n",
    "\n",
    "sns.set()\n",
    "\n",
    "\"\"\"\n",
    "This function serves to concatenate the information of two cars into one array.\n",
    "\n",
    "Note: car1 -- mainlane car; \n",
    "      car2 -- merging car;\n",
    "OutFormat:\n",
    "0 case_ID\n",
    "1 frame_ID\n",
    "\n",
    "2 car1_long_pos\n",
    "3 car1_long_vel*\n",
    "4 car1_lateral_pos\n",
    "5 car1_lateral_displacement*\n",
    "6 car2_long_pos\n",
    "7 car2_long_vel*\n",
    "8 car2_lateral_pos\n",
    "9 car2_lateral_displacement*\n",
    "\n",
    "\n",
    "10 relative_long_vel (merge - mainlane)*\n",
    "11 relative_lateral_distance (merge - mainlane)*\n",
    "12 relative_long_distance (merge - mainlane)\n",
    "\n",
    "13 car1_yaw\n",
    "14 car2_yaw\n",
    "15 situation label: (0: car1 yields car2; 1: car2 yields car1)\n",
    "\"\"\"\n",
    "\n",
    "traj_1 = np.loadtxt('./all_trajs_1.txt')\n",
    "traj_2 = np.loadtxt('./all_trajs_2.txt')\n",
    "data_matrix = np.loadtxt('./data_matrix.txt')\n",
    "\n",
    "car1_long_velo_mean = np.mean(data_matrix[:, 3])\n",
    "car1_long_velo_std = np.std(data_matrix[:, 3])\n",
    "\n",
    "car1_lat_velo_mean = np.mean(data_matrix[:, 5])\n",
    "car1_lat_velo_std = np.std(data_matrix[:, 5])\n",
    "\n",
    "car2_long_velo_mean = np.mean(data_matrix[:, 7])\n",
    "car2_long_velo_std = np.std(data_matrix[:, 7])\n",
    "\n",
    "car2_lat_velo_mean = np.mean(data_matrix[:, 9])\n",
    "car2_lat_velo_std = np.std(data_matrix[:, 9])\n",
    "print (\"car1_long_velo_mean: %g, car1_long_velo_std: %g\" % (car1_long_velo_mean, car1_long_velo_std))\n",
    "print (\"car1_lat_velo_mean: %g, car1_lat_velo_std: %g\" % (car1_lat_velo_mean, car1_lat_velo_std))\n",
    "print (\"car2_long_velo_mean: %g, car2_long_velo_std: %g\" % (car2_long_velo_mean, car2_long_velo_std))\n",
    "print (\"car2_lat_velo_mean: %g, car2_lat_velo_std: %g\" % (car2_lat_velo_mean, car2_lat_velo_std))\n",
    "\n",
    "mean_ = np.zeros((N))\n",
    "std_ = np.zeros((N))\n",
    "mean_1 = np.zeros((N))\n",
    "std_1 = np.zeros((N))\n",
    "\n",
    "re_mean = np.zeros((N))\n",
    "re_std = np.zeros((N))\n",
    "\n",
    "def plotFeature(x):\n",
    "    feature = []\n",
    "    max_position = np.max(data_matrix[:, 2])\n",
    "    min_position = np.min(data_matrix[:, 2])\n",
    "    road_length = max_position - min_position\n",
    "    lower = min_position\n",
    "    N = 10#150\n",
    "    interval = road_length/N#130 / N\n",
    "    for i in range(N):\n",
    "        upper = lower + interval\n",
    "    \n",
    "        temp_data_1 = data_matrix[np.where(data_matrix[:, 2] >= lower)]\n",
    "        temp_data_1 = temp_data_1[np.where(temp_data_1[:, 2] < upper)]\n",
    "        feature += [temp_data_1[:, x]]\n",
    "\n",
    "        lower = upper\n",
    "        \n",
    "    return feature"
   ]
  },
  {
   "cell_type": "code",
   "execution_count": null,
   "metadata": {},
   "outputs": [],
   "source": [
    "car1_vel = plotFeature(3)\n",
    "sns.boxplot(data=car1_vel)\n",
    "plt.xlabel('Road interval')\n",
    "plt.ylabel('Velcocity (m/s)')\n",
    "plt.show()"
   ]
  },
  {
   "cell_type": "code",
   "execution_count": null,
   "metadata": {},
   "outputs": [],
   "source": [
    "car1_dis = plotFeature(5)\n",
    "sns.boxplot(data=car1_dis)\n",
    "plt.xlabel('Road interval')\n",
    "plt.ylabel('Displacement (m)')\n",
    "plt.show()"
   ]
  },
  {
   "cell_type": "code",
   "execution_count": null,
   "metadata": {},
   "outputs": [],
   "source": [
    "car2_vel = plotFeature(7)\n",
    "sns.boxplot(data=car2_vel)\n",
    "plt.xlabel('Road interval')\n",
    "plt.ylabel('Velcocity (m/s)')\n",
    "plt.show()"
   ]
  },
  {
   "cell_type": "code",
   "execution_count": null,
   "metadata": {},
   "outputs": [],
   "source": [
    "car2_dis = plotFeature(9)\n",
    "sns.boxplot(data=car2_dis)\n",
    "plt.xlabel('Road interval')\n",
    "plt.ylabel('Displacement (m)')\n",
    "plt.show()"
   ]
  },
  {
   "cell_type": "code",
   "execution_count": null,
   "metadata": {},
   "outputs": [],
   "source": [
    "re_vel = plotFeature(10)\n",
    "sns.boxplot(data=re_vel)\n",
    "plt.xlabel('Road interval')\n",
    "plt.ylabel('Velcocity (m/s)')\n",
    "plt.show()"
   ]
  },
  {
   "cell_type": "code",
   "execution_count": null,
   "metadata": {},
   "outputs": [],
   "source": [
    "re_dis = plotFeature(11)\n",
    "sns.boxplot(data=re_dis)\n",
    "plt.xlabel('Road interval')\n",
    "plt.ylabel('Distance (m)')\n",
    "plt.show()"
   ]
  },
  {
   "cell_type": "code",
   "execution_count": null,
   "metadata": {},
   "outputs": [],
   "source": [
    "np.where(data_matrix[:,11] == max(data_matrix[:,11]))"
   ]
  },
  {
   "cell_type": "code",
   "execution_count": null,
   "metadata": {},
   "outputs": [],
   "source": [
    "data_matrix[19074,0]"
   ]
  },
  {
   "cell_type": "code",
   "execution_count": null,
   "metadata": {},
   "outputs": [],
   "source": [
    "rare_case = data_matrix[np.where(data_matrix[:,0] == data_matrix[19074,0])]\n",
    "plt.plot(rare_case[:,2], rare_case[:,4], label='Car 1')\n",
    "plt.plot(rare_case[:,6], rare_case[:,8], label='Car 2')\n",
    "plt.xlabel('x')\n",
    "plt.ylabel('y')\n",
    "plt.legend()\n",
    "plt.axis('equal')\n",
    "plt.show()"
   ]
  },
  {
   "cell_type": "code",
   "execution_count": null,
   "metadata": {},
   "outputs": [],
   "source": [
    "car2_acc = plotFeature(-1)\n",
    "sns.boxplot(data=car1_acc)\n",
    "plt.xlabel('Road interval')\n",
    "plt.ylabel('Acceralation (m/s^2)')\n",
    "plt.show()"
   ]
  },
  {
   "cell_type": "code",
   "execution_count": null,
   "metadata": {},
   "outputs": [],
   "source": [
    "car1_acc = plotFeature(-2)\n",
    "sns.boxplot(data=car2_acc)\n",
    "plt.xlabel('Road interval')\n",
    "plt.ylabel('Acceralation (m/s^2)')\n",
    "plt.show()"
   ]
  }
 ],
 "metadata": {
  "kernelspec": {
   "display_name": "Python 3",
   "language": "python",
   "name": "python3"
  },
  "language_info": {
   "codemirror_mode": {
    "name": "ipython",
    "version": 3
   },
   "file_extension": ".py",
   "mimetype": "text/x-python",
   "name": "python",
   "nbconvert_exporter": "python",
   "pygments_lexer": "ipython3",
   "version": "3.6.3"
  }
 },
 "nbformat": 4,
 "nbformat_minor": 2
}
